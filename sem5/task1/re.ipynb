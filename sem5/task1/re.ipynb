{
  "nbformat": 4,
  "nbformat_minor": 0,
  "metadata": {
    "colab": {
      "name": "re",
      "provenance": []
    },
    "kernelspec": {
      "name": "python3",
      "display_name": "Python 3"
    },
    "language_info": {
      "name": "python"
    }
  },
  "cells": [
    {
      "cell_type": "markdown",
      "metadata": {
        "id": "-k6TUxskjXQ3"
      },
      "source": [
        "# re"
      ]
    },
    {
      "cell_type": "markdown",
      "metadata": {
        "id": "bAtE6gDYjYRQ"
      },
      "source": [
        "re - это модуль Python для работы с PCRE-совместимым регулярными выражениями."
      ]
    },
    {
      "cell_type": "markdown",
      "metadata": {
        "id": "RGMABrwHjcDi"
      },
      "source": [
        "> Регуля́рные выраже́ния (англ. regular expressions) — формальный язык поиска и осуществления манипуляций с подстроками в тексте, основанный на использовании метасимволов (символов-джокеров, англ. wildcard characters). Для поиска используется строка-образец (англ. pattern, по-русски её часто называют «шаблоном», «маской»), состоящая из символов и метасимволов и задающая правило поиска. Для манипуляций с текстом дополнительно задаётся строка замены, которая также может содержать в себе специальные символы."
      ]
    },
    {
      "cell_type": "code",
      "metadata": {
        "id": "p9IhkObfjhUE"
      },
      "source": [
        "import re  # импортируем модуль"
      ],
      "execution_count": 79,
      "outputs": []
    },
    {
      "cell_type": "markdown",
      "metadata": {
        "id": "syech1_yjje2"
      },
      "source": [
        "### Разберем конкретные примеры"
      ]
    },
    {
      "cell_type": "markdown",
      "metadata": {
        "id": "clqOaQ5ioWRR"
      },
      "source": [
        "#### 1. Проверить является ли строка email адресом: `.match()`"
      ]
    },
    {
      "cell_type": "code",
      "metadata": {
        "id": "2x7u3JdPoalJ"
      },
      "source": [
        "emails = [\n",
        "  \"foobar.com\",  # not ok\n",
        "  \"foo@bar.com\",  # ok\n",
        "  \"foo@barcom\",  # not ok\n",
        "  \"foo@bar.com.ru.net\",  # ok\n",
        "]"
      ],
      "execution_count": 80,
      "outputs": []
    },
    {
      "cell_type": "code",
      "metadata": {
        "id": "nf_nQ7fJopSY"
      },
      "source": [
        "regex = r\"^.*?@.*?\\..*?$\"  # неидеальное выражение\n",
        "\n",
        "# выражение получше, но тоже несовершенное\n",
        "# r\"(?:[a-z0-9!#$%&'*+/=?^_`{|}~-]+(?:\\.[a-z0-9!#$%&'*+/=?^_`{|}~-]+)*|\"(?:[\\x01-\\x08\\x0b\\x0c\\x0e-\\x1f\\x21\\x23-\\x5b\\x5d-\\x7f]|\\\\[\\x01-\\x09\\x0b\\x0c\\x0e-\\x7f])*\")@(?:(?:[a-z0-9](?:[a-z0-9-]*[a-z0-9])?\\.)+[a-z0-9](?:[a-z0-9-]*[a-z0-9])?|\\[(?:(?:25[0-5]|2[0-4][0-9]|[01]?[0-9][0-9]?)\\.){3}(?:25[0-5]|2[0-4][0-9]|[01]?[0-9][0-9]?|[a-z0-9-]*[a-z0-9]:(?:[\\x01-\\x08\\x0b\\x0c\\x0e-\\x1f\\x21-\\x5a\\x53-\\x7f]|\\\\[\\x01-\\x09\\x0b\\x0c\\x0e-\\x7f])+)\\])\""
      ],
      "execution_count": 81,
      "outputs": []
    },
    {
      "cell_type": "markdown",
      "metadata": {
        "id": "uq_sKSaJpFL0"
      },
      "source": [
        "Строки с регулярными выражениями маркиурются с помощью `r`.\n",
        "\n",
        "Это позволяет удобно задавать регулярные выражения, избегая проблем с интерполяцией."
      ]
    },
    {
      "cell_type": "code",
      "metadata": {
        "colab": {
          "base_uri": "https://localhost:8080/"
        },
        "id": "EyUdvD80qH5V",
        "outputId": "9bd230db-2edb-444e-e057-d4a38eb94d3b"
      },
      "source": [
        "for email in emails:\n",
        "  matches = re.match(regex, email)  # None если нет совпадений, иначе объект Match\n",
        "  if matches is None:\n",
        "    print(f\"Строка \\\"{email}\\\" - не похожа на email.\")\n",
        "  else:\n",
        "    print(f\"А вот это уже email: \\\"{email}\\\".\")\n"
      ],
      "execution_count": 82,
      "outputs": [
        {
          "output_type": "stream",
          "text": [
            "Строка \"foobar.com\" - не похожа на email.\n",
            "А вот это уже email: \"foo@bar.com\".\n",
            "Строка \"foo@barcom\" - не похожа на email.\n",
            "А вот это уже email: \"foo@bar.com.ru.net\".\n"
          ],
          "name": "stdout"
        }
      ]
    },
    {
      "cell_type": "markdown",
      "metadata": {
        "id": "ewEKZ5Oyj2wO"
      },
      "source": [
        "#### 2. Найти время в строке. Например: \"Поужинать в `09:00` и встретится с Бобом в `13:00`\": `.findall()`"
      ]
    },
    {
      "cell_type": "code",
      "metadata": {
        "id": "hliLRAOTlx0b"
      },
      "source": [
        "string = \"Поужинать в 09:00 и встретится с Бобом в 13:00\""
      ],
      "execution_count": 83,
      "outputs": []
    },
    {
      "cell_type": "code",
      "metadata": {
        "colab": {
          "base_uri": "https://localhost:8080/"
        },
        "id": "7KANG9V0kBjc",
        "outputId": "56ae6fbb-9a33-4974-e741-b562a215b873"
      },
      "source": [
        "regex = r\"(?:2[0-3]|[0-1]\\d):[0-5]\\d\"  # регулярное выражение\n",
        "\n",
        "times_pattern = re.compile(regex)  # компилируем регулярное выражение\n",
        "\n",
        "matches = times_pattern.findall(string)  # найти все совпадения\n",
        "\n",
        "for time in matches:\n",
        "  print(time)"
      ],
      "execution_count": 84,
      "outputs": [
        {
          "output_type": "stream",
          "text": [
            "09:00\n",
            "13:00\n"
          ],
          "name": "stdout"
        }
      ]
    },
    {
      "cell_type": "markdown",
      "metadata": {
        "id": "UaQewXDIukyl"
      },
      "source": [
        "#### 3. Вычленить операнды и оператор из строки: (`именованные группы`, `re-флаги` и `find-iter`)"
      ]
    },
    {
      "cell_type": "code",
      "metadata": {
        "id": "ff3YWWQTux1Y"
      },
      "source": [
        "regex = r\"(-?\\d+(?:\\.\\d+)?)\\s*([-+*\\/])\\s*(-?\\d+(?:\\.\\d+)?)\""
      ],
      "execution_count": 85,
      "outputs": []
    },
    {
      "cell_type": "markdown",
      "metadata": {
        "id": "bHR493bqs_CU"
      },
      "source": [
        "Сложновато читать это выражение?\n",
        "\n",
        "Добавим флаг `EXTENDED` и `MULTILINE` чтобы игнорировать проблеы и переводы строк!"
      ]
    },
    {
      "cell_type": "code",
      "metadata": {
        "id": "U8Xlrlsa5Zqn"
      },
      "source": [
        "# А для ясности добавим комменатрии\n",
        "regex = r\"\"\"\n",
        "(?P<first>-?\\d+(?:\\.\\d+)?) # 1 операнд\n",
        "\\s*               # пробелы\n",
        "(?P<operator>[-+*\\/])         # оператор\n",
        "\\s*               # пробелы\n",
        "(?P<second>-?\\d+(?:\\.\\d+)?) # 2 операнд\n",
        "\"\"\"\n",
        "\n",
        "pattern = re.compile(regex, re.X | re.M)  # компилируем регулярное выражение"
      ],
      "execution_count": 86,
      "outputs": []
    },
    {
      "cell_type": "code",
      "metadata": {
        "colab": {
          "base_uri": "https://localhost:8080/"
        },
        "id": "EJu7bbnG6bHn",
        "outputId": "9661bebc-ff56-49a3-9a6e-198c5137233e"
      },
      "source": [
        "strings = [\n",
        "  \"1 + 2\",\n",
        "  \"1.2 *3.4\",\n",
        "  \"-3/ -6\",\n",
        "  \"-2-2\",\n",
        "]\n",
        "\n",
        "for string in strings:\n",
        "  for m in pattern.finditer(string):\n",
        "    print(m.groupdict())"
      ],
      "execution_count": 87,
      "outputs": [
        {
          "output_type": "stream",
          "text": [
            "{'first': '1', 'operator': '+', 'second': '2'}\n",
            "{'first': '1.2', 'operator': '*', 'second': '3.4'}\n",
            "{'first': '-3', 'operator': '/', 'second': '-6'}\n",
            "{'first': '-2', 'operator': '-', 'second': '2'}\n"
          ],
          "name": "stdout"
        }
      ]
    },
    {
      "cell_type": "markdown",
      "metadata": {
        "id": "Coi23oS49h4s"
      },
      "source": [
        "#### 4. Преобразовать дату (`.sub()`)"
      ]
    },
    {
      "cell_type": "code",
      "metadata": {
        "colab": {
          "base_uri": "https://localhost:8080/"
        },
        "id": "H-G66HX19q63",
        "outputId": "158a239e-8f70-439f-a851-9a47d8cd6f88"
      },
      "source": [
        "string = \"April 15, 2003\"\n",
        "regex = r\"(\\w+) (\\d+), (\\d+)\"\n",
        "\n",
        "pattern = re.compile(regex, re.IGNORECASE)  # Игнорируем регистр\n",
        "new_date = pattern.sub(r\"\\3, \\1\", string)\n",
        "\n",
        "print(new_date)"
      ],
      "execution_count": 88,
      "outputs": [
        {
          "output_type": "stream",
          "text": [
            "2003, April\n"
          ],
          "name": "stdout"
        }
      ]
    },
    {
      "cell_type": "markdown",
      "metadata": {
        "id": "0SOCo96tm6gW"
      },
      "source": [
        "#### 5. Создать HTML (XML) дерево из переданной строки"
      ]
    },
    {
      "cell_type": "markdown",
      "metadata": {
        "id": "3wkrZwmem9eN"
      },
      "source": [
        "[Stackoverflow](https://stackoverflow.com/a/1732454)"
      ]
    },
    {
      "cell_type": "markdown",
      "metadata": {
        "id": "5Sd5p-blm_0l"
      },
      "source": [
        "HTML невозможно распарсить с помощью регулярных выражений!\n",
        "\n",
        "Дело в том что HTML - это **нерегулярный язык**!\n",
        "\n",
        "Если на каком-то наборе данных регулярное выражение и будет работать, то на других наборах данных, в зависимости от реализации, может возникнуть бесконечный цикл или переполнение стека или всегда будет возвращаться некорректный результат и т.п.\n",
        "\n",
        "Например, PHP и Python реагируют \"ласково\" на такие несоответсвия, а вот Java (OpenJDK 15.1) впадет в бесконечный цикл."
      ]
    }
  ]
}